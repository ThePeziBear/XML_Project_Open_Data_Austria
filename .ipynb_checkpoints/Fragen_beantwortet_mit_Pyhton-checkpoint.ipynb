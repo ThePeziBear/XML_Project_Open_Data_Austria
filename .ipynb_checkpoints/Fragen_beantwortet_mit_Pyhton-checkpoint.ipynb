{
 "cells": [
  {
   "cell_type": "code",
   "execution_count": 17,
   "metadata": {},
   "outputs": [
    {
     "data": {
      "text/html": [
       "<div>\n",
       "<style scoped>\n",
       "    .dataframe tbody tr th:only-of-type {\n",
       "        vertical-align: middle;\n",
       "    }\n",
       "\n",
       "    .dataframe tbody tr th {\n",
       "        vertical-align: top;\n",
       "    }\n",
       "\n",
       "    .dataframe thead th {\n",
       "        text-align: right;\n",
       "    }\n",
       "</style>\n",
       "<table border=\"1\" class=\"dataframe\">\n",
       "  <thead>\n",
       "    <tr style=\"text-align: right;\">\n",
       "      <th></th>\n",
       "      <th>Unnamed: 0</th>\n",
       "      <th>Impfung</th>\n",
       "      <th>Jahr</th>\n",
       "      <th>Anzahl</th>\n",
       "    </tr>\n",
       "  </thead>\n",
       "  <tbody>\n",
       "    <tr>\n",
       "      <th>0</th>\n",
       "      <td>0</td>\n",
       "      <td>Diphtherie-Tetanus-Keuchhusten-Hib-Kinderlaehm...</td>\n",
       "      <td>1995</td>\n",
       "      <td>0</td>\n",
       "    </tr>\n",
       "    <tr>\n",
       "      <th>1</th>\n",
       "      <td>1</td>\n",
       "      <td>Diphtherie-Tetanus-Keuchhusten-Hib-Kinderlaehmung</td>\n",
       "      <td>1995</td>\n",
       "      <td>0</td>\n",
       "    </tr>\n",
       "    <tr>\n",
       "      <th>2</th>\n",
       "      <td>2</td>\n",
       "      <td>Diphtherie-Tetanus-Keuchhusten-Kinderlaehmung</td>\n",
       "      <td>1995</td>\n",
       "      <td>0</td>\n",
       "    </tr>\n",
       "    <tr>\n",
       "      <th>3</th>\n",
       "      <td>3</td>\n",
       "      <td>Diphtherie-Tetanus-Keuchhusten-Hib</td>\n",
       "      <td>1995</td>\n",
       "      <td>200</td>\n",
       "    </tr>\n",
       "    <tr>\n",
       "      <th>4</th>\n",
       "      <td>4</td>\n",
       "      <td>Hib (Haemophilus influenzae b)</td>\n",
       "      <td>1995</td>\n",
       "      <td>3724</td>\n",
       "    </tr>\n",
       "  </tbody>\n",
       "</table>\n",
       "</div>"
      ],
      "text/plain": [
       "   Unnamed: 0                                            Impfung  Jahr  Anzahl\n",
       "0           0  Diphtherie-Tetanus-Keuchhusten-Hib-Kinderlaehm...  1995       0\n",
       "1           1  Diphtherie-Tetanus-Keuchhusten-Hib-Kinderlaehmung  1995       0\n",
       "2           2      Diphtherie-Tetanus-Keuchhusten-Kinderlaehmung  1995       0\n",
       "3           3                 Diphtherie-Tetanus-Keuchhusten-Hib  1995     200\n",
       "4           4                     Hib (Haemophilus influenzae b)  1995    3724"
      ]
     },
     "execution_count": 17,
     "metadata": {},
     "output_type": "execute_result"
    }
   ],
   "source": [
    "import pandas as pd\n",
    "import matplotlib.pyplot as plt\n",
    "df = pd.read_excel(\"Impfung_Dataframe.xlsx\")\n",
    "df.head()\n"
   ]
  },
  {
   "cell_type": "code",
   "execution_count": 18,
   "metadata": {},
   "outputs": [
    {
     "data": {
      "text/html": [
       "<div>\n",
       "<style scoped>\n",
       "    .dataframe tbody tr th:only-of-type {\n",
       "        vertical-align: middle;\n",
       "    }\n",
       "\n",
       "    .dataframe tbody tr th {\n",
       "        vertical-align: top;\n",
       "    }\n",
       "\n",
       "    .dataframe thead th {\n",
       "        text-align: right;\n",
       "    }\n",
       "</style>\n",
       "<table border=\"1\" class=\"dataframe\">\n",
       "  <thead>\n",
       "    <tr style=\"text-align: right;\">\n",
       "      <th></th>\n",
       "      <th>Impfung</th>\n",
       "      <th>Jahr</th>\n",
       "      <th>Anzahl</th>\n",
       "    </tr>\n",
       "  </thead>\n",
       "  <tbody>\n",
       "    <tr>\n",
       "      <th>0</th>\n",
       "      <td>Diphtherie-Tetanus-Keuchhusten-Hib-Kinderlaehm...</td>\n",
       "      <td>1995</td>\n",
       "      <td>0</td>\n",
       "    </tr>\n",
       "    <tr>\n",
       "      <th>1</th>\n",
       "      <td>Diphtherie-Tetanus-Keuchhusten-Hib-Kinderlaehmung</td>\n",
       "      <td>1995</td>\n",
       "      <td>0</td>\n",
       "    </tr>\n",
       "    <tr>\n",
       "      <th>2</th>\n",
       "      <td>Diphtherie-Tetanus-Keuchhusten-Kinderlaehmung</td>\n",
       "      <td>1995</td>\n",
       "      <td>0</td>\n",
       "    </tr>\n",
       "    <tr>\n",
       "      <th>3</th>\n",
       "      <td>Diphtherie-Tetanus-Keuchhusten-Hib</td>\n",
       "      <td>1995</td>\n",
       "      <td>200</td>\n",
       "    </tr>\n",
       "    <tr>\n",
       "      <th>4</th>\n",
       "      <td>Hib (Haemophilus influenzae b)</td>\n",
       "      <td>1995</td>\n",
       "      <td>3724</td>\n",
       "    </tr>\n",
       "  </tbody>\n",
       "</table>\n",
       "</div>"
      ],
      "text/plain": [
       "                                             Impfung  Jahr  Anzahl\n",
       "0  Diphtherie-Tetanus-Keuchhusten-Hib-Kinderlaehm...  1995       0\n",
       "1  Diphtherie-Tetanus-Keuchhusten-Hib-Kinderlaehmung  1995       0\n",
       "2      Diphtherie-Tetanus-Keuchhusten-Kinderlaehmung  1995       0\n",
       "3                 Diphtherie-Tetanus-Keuchhusten-Hib  1995     200\n",
       "4                     Hib (Haemophilus influenzae b)  1995    3724"
      ]
     },
     "execution_count": 18,
     "metadata": {},
     "output_type": "execute_result"
    }
   ],
   "source": [
    "df = df[['Impfung', 'Jahr','Anzahl']]\n",
    "df.head()"
   ]
  },
  {
   "cell_type": "code",
   "execution_count": 21,
   "metadata": {},
   "outputs": [
    {
     "data": {
      "text/plain": [
       "<function matplotlib.pyplot.show(*args, **kw)>"
      ]
     },
     "execution_count": 21,
     "metadata": {},
     "output_type": "execute_result"
    },
    {
     "data": {
      "image/png": "[encoded data removed]",
      "text/plain": [
       "<Figure size 432x288 with 1 Axes>"
      ]
     },
     "metadata": {
      "needs_background": "light"
     },
     "output_type": "display_data"
    }
   ],
   "source": [
    "group_Anzahl = df.groupby('Jahr')['Anzahl'].sum()\n",
    "Jahre = df['Jahr'].unique()\n",
    "\n",
    "plt.bar(Jahre,group_Anzahl)\n",
    "plt.show\n",
    "\n"
   ]
  },
  {
   "cell_type": "code",
   "execution_count": 22,
   "metadata": {},
   "outputs": [
    {
     "data": {
      "text/plain": [
       "<BarContainer object of 22 artists>"
      ]
     },
     "execution_count": 22,
     "metadata": {},
     "output_type": "execute_result"
    },
    {
     "data": {
      "image/png": "[encoded data removed]",
      "text/plain": [
       "<Figure size 432x288 with 1 Axes>"
      ]
     },
     "metadata": {
      "needs_background": "light"
     },
     "output_type": "display_data"
    }
   ],
   "source": [
    "dictionary_recommended = {'Hepatitis A+B' : 'recommended',\n",
    "             'Hepatitis A' : 'recommended',\n",
    "             'Hepatitis B' : 'recommended',\n",
    "             'Grippe' : 'recommended',\n",
    "             'FSME' : 'recommended',\n",
    "             }\n",
    "\n",
    "df['recommended'] = df['Impfung'].map(dictionary_recommended)\n",
    "\n",
    "df2 = df[df['recommended'] == 'recommended']\n",
    "group = df2.groupby('Jahr')['Anzahl'].sum()\n",
    "\n",
    "Jahre = df['Jahr'].unique()\n",
    "\n",
    "plt.bar(Jahre,group)\n"
   ]
  },
  {
   "cell_type": "code",
   "execution_count": 31,
   "metadata": {},
   "outputs": [
    {
     "data": {
      "text/plain": [
       "<function matplotlib.pyplot.show(*args, **kw)>"
      ]
     },
     "execution_count": 31,
     "metadata": {},
     "output_type": "execute_result"
    },
    {
     "data": {
      "image/png": "[encoded data removed]",
      "text/plain": [
       "<Figure size 432x288 with 1 Axes>"
      ]
     },
     "metadata": {
      "needs_background": "light"
     },
     "output_type": "display_data"
    }
   ],
   "source": [
    "dictionary_kids = {'Masern-Mumps-Roeteln' : 'kids',\n",
    "                   'Hib (Haemophilus influenzae b)' : 'kids',\n",
    "                   'Diphtherie-Tetanus-Keuchhusten' : 'kids',\n",
    "                   'Kinderlaehmung (Poliomyelitis)' : 'kids',\n",
    "                   'Hepatitis B' : 'kids',\n",
    "                   'Rotaviren' : 'kids',\n",
    "                   'Pneumokokken' : 'kids',\n",
    "                   }\n",
    "\n",
    "df['kids'] = df['Impfung'].map(dictionary_kids)\n",
    "\n",
    "df2 = df[df['kids'] == 'kids']\n",
    "group = df2.groupby('Jahr')['Anzahl'].sum()\n",
    "\n",
    "Jahre = df['Jahr'].unique()\n",
    "\n",
    "plt.bar(Jahre,group)\n",
    "plt.show"
   ]
  },
  {
   "cell_type": "code",
   "execution_count": null,
   "metadata": {},
   "outputs": [],
   "source": []
  },
  {
   "cell_type": "code",
   "execution_count": null,
   "metadata": {},
   "outputs": [],
   "source": []
  }
 ],
 "metadata": {
  "kernelspec": {
   "display_name": "Python 3",
   "language": "python",
   "name": "python3"
  },
  "language_info": {
   "codemirror_mode": {
    "name": "ipython",
    "version": 3
   },
   "file_extension": ".py",
   "mimetype": "text/x-python",
   "name": "python",
   "nbconvert_exporter": "python",
   "pygments_lexer": "ipython3",
   "version": "3.7.4"
  }
 },
 "nbformat": 4,
 "nbformat_minor": 2
}
